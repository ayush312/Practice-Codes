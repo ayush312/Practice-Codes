{
 "cells": [
  {
   "cell_type": "markdown",
   "metadata": {},
   "source": [
    "## Question 1:"
   ]
  },
  {
   "cell_type": "markdown",
   "metadata": {},
   "source": [
    "### Parking Lot problem\n",
    "\n",
    "Parking is the main problem for different big venues and offices. \n",
    "\n",
    "Here we have created a model where:\n",
    "1. We have n number of leves/floors\n",
    "2. We have different parking slots with each lane has fixed size of 10 slots for every floor.\n",
    "3. The createFloor function create the parking lot for nth floor.\n",
    "4. The availableEmptySlot function gives if there is any slot empty in that floor.\n",
    "5. The addVehicleForCompany function will tag the vehicle for the particular company.\n",
    "6. The parkVehicle function will park the vehicle in vacant slot\n",
    "7. The leaveParking function will exit the vehicle and update the parking lots details.\n",
    "8. The companyParked function will provide details of what vehicles are parked for a particular company."
   ]
  },
  {
   "cell_type": "markdown",
   "metadata": {},
   "source": [
    "### Class Diagram:"
   ]
  },
  {
   "attachments": {},
   "cell_type": "markdown",
   "metadata": {},
   "source": [
    "![UML.PNG](images/UML.PNG)"
   ]
  },
  {
   "cell_type": "markdown",
   "metadata": {},
   "source": [
    "### Work flow diagram"
   ]
  },
  {
   "attachments": {},
   "cell_type": "markdown",
   "metadata": {},
   "source": [
    "![Flow%20Diagram.png](images/Flow_Diagram.png)"
   ]
  },
  {
   "cell_type": "markdown",
   "metadata": {},
   "source": [
    "### Code"
   ]
  },
  {
   "cell_type": "code",
   "execution_count": 18,
   "metadata": {},
   "outputs": [],
   "source": [
    "import Vehicle as V\n",
    "class parkingLot:\n",
    "    def __init__(self):\n",
    "        self.capacity = 0\n",
    "        self.slot_num = 0\n",
    "        self.slots_occupied = 0\n",
    "        \n",
    "    def createFloor(self, capacity):\n",
    "        if capacity%10 == 0:\n",
    "            self.lane_num = (capacity//10)\n",
    "            self.slots = [[-1]*10 for i in range(1,self.lane_num+1)]\n",
    "        else:\n",
    "            self.lane_num = (capacity//10)+1\n",
    "            z=10-(capacity%10)\n",
    "            self.slots = [[-1]*10 for i in range(1,self.lane_num+1)]\n",
    "            self.slots[self.lane_num-1][10-z:10]=[-2]*z\n",
    "        self.capacity = capacity\n",
    "        return self.slots\n",
    "    \n",
    "    def availableEmptySlot(self):\n",
    "        self.lane_num = len(self.slots)\n",
    "        for l in range(self.lane_num):\n",
    "            for s in range(10):\n",
    "                if self.slots[l][s] == -1:\n",
    "                    return l,s \n",
    "                elif self.slots[l][s] == -2:\n",
    "                    return -2,0\n",
    "            \n",
    "    def addVehicleForCompany(self, license_plate, company, vehicle_c = {}):\n",
    "        if company not in vehicle_c.keys():\n",
    "            vehicle_c[company] =[]\n",
    "        for i in range(self.lane_num):\n",
    "            for j in range(10):\n",
    "                if self.slots[i][j]==-1 or self.slots[i][j]==-2:\n",
    "                    continue\n",
    "                if (self.slots[i][j].company == company and license_plate not in vehicle_c[company]):\n",
    "                    vehicle_c[company].append(license_plate)\n",
    "        return vehicle_c\n",
    "    \n",
    "    def parkVehicle(self, vehicle_type, license_plate, company):\n",
    "        self.vehicle_per_company = {}\n",
    "        if self.slots_occupied < self.capacity:\n",
    "            l,s = self.availableEmptySlot()\n",
    "            if l == -2:\n",
    "                return ('Sorry no parking available')\n",
    "            else:\n",
    "                self.slots[l][s] = V.vehicle(vehicle_type, license_plate, company)\n",
    "                \n",
    "                self.vehicle_per_company = self.addVehicleForCompany(license_plate, company)\n",
    "                self.slot_num = self.slot_num+1\n",
    "                self.slots_occupied = self.slots_occupied+1\n",
    "                return self.vehicle_per_company\n",
    "        else:\n",
    "            return -2\n",
    "        \n",
    "    def leaveParking(self, license_plate):\n",
    "        if self.slots_occupied>0:\n",
    "            for i in range(self.lane_num):\n",
    "                for j in range(10):\n",
    "                    if self.slots[i][j]==-1 or self.slots[i][j]==-2:\n",
    "                        continue\n",
    "                    else:\n",
    "                        if self.slots[i][j].license_plate == license_plate:\n",
    "                            self.vehicle_per_company[self.slots[i][j].company].remove(license_plate)\n",
    "                            self.slots[i][j]=-1\n",
    "                            self.slots_occupied = self.slots_occupied - 1\n",
    "                            print('Vehicle Exited')\n",
    "        else: \n",
    "            return ('Parking is vaccant. No vehicle Found')\n",
    "        \n",
    "    def companyParked(self, company):\n",
    "        if self.slots_occupied>0:\n",
    "            for i in range(self.lane_num):\n",
    "                for j in range(10):\n",
    "                    if self.slots[i][j]==-1 or self.slots[i][j]==-2:\n",
    "                        continue\n",
    "                    else:\n",
    "                        return list(self.vehicle_per_company[company])"
   ]
  },
  {
   "cell_type": "code",
   "execution_count": 19,
   "metadata": {},
   "outputs": [
    {
     "name": "stdout",
     "output_type": "stream",
     "text": [
      "Enter the number of levels: 3\n",
      "Enter the number of slots per level: 12\n",
      "Enter the number of slots per level: 12\n",
      "Enter the number of slots per level: 12\n"
     ]
    }
   ],
   "source": [
    "slots_list = []\n",
    "num_of_levels = int(input('Enter the number of levels: '))\n",
    "for i in range(num_of_levels):\n",
    "    num_of_slots_per_level = int(input('Enter the number of slots per level: '))\n",
    "    slots_list.append(num_of_slots_per_level)\n",
    "\n",
    "parking_lot = {}\n",
    "for i in range(num_of_levels):\n",
    "    x=parkingLot()\n",
    "    parking_lot[i] = x\n",
    "    parking_lot[i].createFloor(slots_list[i])\n"
   ]
  },
  {
   "cell_type": "code",
   "execution_count": 20,
   "metadata": {},
   "outputs": [
    {
     "data": {
      "text/plain": [
       "{'com_A': ['KA-01-HH-1234',\n",
       "  'MP-01-HH-2701',\n",
       "  'KA-01-HH-1254',\n",
       "  'MP-01-HH-2741',\n",
       "  'KA-01-HH-1294',\n",
       "  'MP-01-HH-2791'],\n",
       " 'com_B': ['UP-01-HH-9999',\n",
       "  'MH-01-BB-0001',\n",
       "  'UP-01-HH-9009',\n",
       "  'MH-01-BB-1001',\n",
       "  'UP-01-HH-9909',\n",
       "  'MH-01-BB-2001'],\n",
       " 'com_c': ['BR-01-HH-7777',\n",
       "  'KA-01-HH-3141',\n",
       "  'KA-01-HH-3151',\n",
       "  'KA-01-HH-3179',\n",
       "  'KA-01-HH-3305',\n",
       "  'BR-01-HH-7887',\n",
       "  'KA-01-HH-3111',\n",
       "  'KA-01-HH-3121',\n",
       "  'KA-01-HH-3409',\n",
       "  'KA-01-HH-3301',\n",
       "  'BR-01-HH-7387',\n",
       "  'KA-01-HH-3131',\n",
       "  'KA-01-HH-3101',\n",
       "  'KA-01-HH-3049',\n",
       "  'KA-01-HH-3785']}"
      ]
     },
     "execution_count": 20,
     "metadata": {},
     "output_type": "execute_result"
    }
   ],
   "source": [
    "parking_lot[2].parkVehicle('car' , 'KA-01-HH-1234' , 'com_A')\n",
    "parking_lot[0].parkVehicle('car' , 'MP-01-HH-2701' , 'com_A')\n",
    "parking_lot[1].parkVehicle('car' , 'UP-01-HH-9999' , 'com_B')\n",
    "parking_lot[2].parkVehicle('bike', 'MH-01-BB-0001' , 'com_B')\n",
    "parking_lot[1].parkVehicle('bike', 'BR-01-HH-7777' , 'com_c')\n",
    "parking_lot[0].parkVehicle('auto', 'KA-01-HH-3141' , 'com_c')\n",
    "parking_lot[2].parkVehicle('auto', 'KA-01-HH-3151' , 'com_c')\n",
    "parking_lot[1].parkVehicle('auto', 'KA-01-HH-3179' , 'com_c')\n",
    "parking_lot[1].parkVehicle('auto', 'KA-01-HH-3305' , 'com_c')\n",
    "parking_lot[1].parkVehicle('car' , 'KA-01-HH-1254' , 'com_A')\n",
    "parking_lot[2].parkVehicle('car' , 'MP-01-HH-2741' , 'com_A')\n",
    "parking_lot[2].parkVehicle('car' , 'UP-01-HH-9009' , 'com_B')\n",
    "parking_lot[0].parkVehicle('bike', 'MH-01-BB-1001' , 'com_B')\n",
    "parking_lot[2].parkVehicle('bike', 'BR-01-HH-7887' , 'com_c')\n",
    "parking_lot[1].parkVehicle('auto', 'KA-01-HH-3111' , 'com_c')\n",
    "parking_lot[0].parkVehicle('auto', 'KA-01-HH-3121' , 'com_c')\n",
    "parking_lot[1].parkVehicle('auto', 'KA-01-HH-3409' , 'com_c')\n",
    "parking_lot[2].parkVehicle('auto', 'KA-01-HH-3301' , 'com_c')\n",
    "parking_lot[0].parkVehicle('car' , 'KA-01-HH-1294' , 'com_A')\n",
    "parking_lot[1].parkVehicle('car' , 'MP-01-HH-2791' , 'com_A')\n",
    "parking_lot[2].parkVehicle('car' , 'UP-01-HH-9909' , 'com_B')\n",
    "parking_lot[0].parkVehicle('bike', 'MH-01-BB-2001' , 'com_B')\n",
    "parking_lot[0].parkVehicle('bike', 'BR-01-HH-7387' , 'com_c')\n",
    "parking_lot[1].parkVehicle('auto', 'KA-01-HH-3131' , 'com_c')\n",
    "parking_lot[2].parkVehicle('auto', 'KA-01-HH-3101' , 'com_c')\n",
    "parking_lot[0].parkVehicle('auto', 'KA-01-HH-3049' , 'com_c')\n",
    "parking_lot[1].parkVehicle('auto', 'KA-01-HH-3785' , 'com_c')\n"
   ]
  },
  {
   "cell_type": "code",
   "execution_count": 21,
   "metadata": {},
   "outputs": [
    {
     "name": "stdout",
     "output_type": "stream",
     "text": [
      "Vehicles of company com_A in parking 0\n",
      "['KA-01-HH-1234', 'MP-01-HH-2701', 'KA-01-HH-1254', 'MP-01-HH-2741', 'KA-01-HH-1294', 'MP-01-HH-2791']\n",
      "----------------------------------------------------------------------------------------\n",
      "Vehicles of company com_B in parking 0\n",
      "['UP-01-HH-9999', 'MH-01-BB-0001', 'UP-01-HH-9009', 'MH-01-BB-1001', 'UP-01-HH-9909', 'MH-01-BB-2001']\n",
      "----------------------------------------------------------------------------------------\n",
      "Vehicles of company com_c in parking 0\n",
      "['BR-01-HH-7777', 'KA-01-HH-3141', 'KA-01-HH-3151', 'KA-01-HH-3179', 'KA-01-HH-3305', 'BR-01-HH-7887', 'KA-01-HH-3111', 'KA-01-HH-3121', 'KA-01-HH-3409', 'KA-01-HH-3301', 'BR-01-HH-7387', 'KA-01-HH-3131', 'KA-01-HH-3101', 'KA-01-HH-3049', 'KA-01-HH-3785']\n",
      "----------------------------------------------------------------------------------------\n",
      "Vehicles of company com_A in parking 1\n",
      "['KA-01-HH-1234', 'MP-01-HH-2701', 'KA-01-HH-1254', 'MP-01-HH-2741', 'KA-01-HH-1294', 'MP-01-HH-2791']\n",
      "----------------------------------------------------------------------------------------\n",
      "Vehicles of company com_B in parking 1\n",
      "['UP-01-HH-9999', 'MH-01-BB-0001', 'UP-01-HH-9009', 'MH-01-BB-1001', 'UP-01-HH-9909', 'MH-01-BB-2001']\n",
      "----------------------------------------------------------------------------------------\n",
      "Vehicles of company com_c in parking 1\n",
      "['BR-01-HH-7777', 'KA-01-HH-3141', 'KA-01-HH-3151', 'KA-01-HH-3179', 'KA-01-HH-3305', 'BR-01-HH-7887', 'KA-01-HH-3111', 'KA-01-HH-3121', 'KA-01-HH-3409', 'KA-01-HH-3301', 'BR-01-HH-7387', 'KA-01-HH-3131', 'KA-01-HH-3101', 'KA-01-HH-3049', 'KA-01-HH-3785']\n",
      "----------------------------------------------------------------------------------------\n",
      "Vehicles of company com_A in parking 2\n",
      "['KA-01-HH-1234', 'MP-01-HH-2701', 'KA-01-HH-1254', 'MP-01-HH-2741', 'KA-01-HH-1294', 'MP-01-HH-2791']\n",
      "----------------------------------------------------------------------------------------\n",
      "Vehicles of company com_B in parking 2\n",
      "['UP-01-HH-9999', 'MH-01-BB-0001', 'UP-01-HH-9009', 'MH-01-BB-1001', 'UP-01-HH-9909', 'MH-01-BB-2001']\n",
      "----------------------------------------------------------------------------------------\n",
      "Vehicles of company com_c in parking 2\n",
      "['BR-01-HH-7777', 'KA-01-HH-3141', 'KA-01-HH-3151', 'KA-01-HH-3179', 'KA-01-HH-3305', 'BR-01-HH-7887', 'KA-01-HH-3111', 'KA-01-HH-3121', 'KA-01-HH-3409', 'KA-01-HH-3301', 'BR-01-HH-7387', 'KA-01-HH-3131', 'KA-01-HH-3101', 'KA-01-HH-3049', 'KA-01-HH-3785']\n",
      "----------------------------------------------------------------------------------------\n"
     ]
    }
   ],
   "source": [
    "for i in range(num_of_levels):\n",
    "    for c in ['com_A', 'com_B', 'com_c']:\n",
    "        print('Vehicles of company {0} in parking {1}'.format(c,i))\n",
    "        print(parking_lot[i].companyParked(c))\n",
    "        print('----------------------------------------------------------------------------------------')"
   ]
  },
  {
   "cell_type": "code",
   "execution_count": 22,
   "metadata": {},
   "outputs": [
    {
     "name": "stdout",
     "output_type": "stream",
     "text": [
      "Exit vehicle - Enter Licesne Plate Number: BR-01-HH-7387\n",
      "Vehicle Exited\n"
     ]
    }
   ],
   "source": [
    "Vehicle_Leave = input('Exit vehicle - Enter Licesne Plate Number: ')\n",
    "for i in range(num_of_levels):\n",
    "    if Vehicle_Leave in list(parking_lot[i].companyParked('com_c')):\n",
    "        parking_lot[i].leaveParking(Vehicle_Leave)"
   ]
  },
  {
   "cell_type": "code",
   "execution_count": 23,
   "metadata": {},
   "outputs": [
    {
     "data": {
      "text/plain": [
       "['BR-01-HH-7777',\n",
       " 'KA-01-HH-3141',\n",
       " 'KA-01-HH-3151',\n",
       " 'KA-01-HH-3179',\n",
       " 'KA-01-HH-3305',\n",
       " 'BR-01-HH-7887',\n",
       " 'KA-01-HH-3111',\n",
       " 'KA-01-HH-3121',\n",
       " 'KA-01-HH-3409',\n",
       " 'KA-01-HH-3301',\n",
       " 'KA-01-HH-3131',\n",
       " 'KA-01-HH-3101',\n",
       " 'KA-01-HH-3049',\n",
       " 'KA-01-HH-3785']"
      ]
     },
     "execution_count": 23,
     "metadata": {},
     "output_type": "execute_result"
    }
   ],
   "source": [
    "parking_lot[2].companyParked('com_c')"
   ]
  },
  {
   "cell_type": "markdown",
   "metadata": {},
   "source": [
    "\n",
    "## Question: 2"
   ]
  },
  {
   "cell_type": "markdown",
   "metadata": {},
   "source": [
    "### Permutation Problem\n",
    "\n",
    "For each test case, print all permutations of a given string S with single space and all\n",
    "permutations should be in lexicographically increasing order."
   ]
  },
  {
   "cell_type": "code",
   "execution_count": 198,
   "metadata": {},
   "outputs": [],
   "source": [
    "from itertools import permutations \n",
    "  \n",
    "def permutationString(s): \n",
    "    z=[''.join(chars) for chars in permutations(s)]\n",
    "    val = sorted(z) \n",
    "    for i in val: \n",
    "        print(i)"
   ]
  },
  {
   "cell_type": "code",
   "execution_count": 204,
   "metadata": {},
   "outputs": [
    {
     "name": "stdout",
     "output_type": "stream",
     "text": [
      "Enter number of test cases2\n",
      "Enter 0 test case string: abc\n",
      "Enter 1 test case string: def\n",
      "All permutations of a ABC\n",
      "ABC\n",
      "ACB\n",
      "BAC\n",
      "BCA\n",
      "CAB\n",
      "CBA\n",
      "All permutations of a DEF\n",
      "DEF\n",
      "DFE\n",
      "EDF\n",
      "EFD\n",
      "FDE\n",
      "FED\n"
     ]
    }
   ],
   "source": [
    "num_of_test_cases = int(input('Enter number of test cases'))\n",
    "s=[]\n",
    "for i in range(num_of_test_cases):\n",
    "    a=input('Enter {0} test case string: '.format(i))\n",
    "    s.append(a.upper())\n",
    "\n",
    "for word in s:\n",
    "    print('All permutations of a {0}'.format(word))\n",
    "    permutationString(word)\n",
    "    \n"
   ]
  }
 ],
 "metadata": {
  "kernelspec": {
   "display_name": "Python 3",
   "language": "python",
   "name": "python3"
  },
  "language_info": {
   "codemirror_mode": {
    "name": "ipython",
    "version": 3
   },
   "file_extension": ".py",
   "mimetype": "text/x-python",
   "name": "python",
   "nbconvert_exporter": "python",
   "pygments_lexer": "ipython3",
   "version": "3.7.6"
  }
 },
 "nbformat": 4,
 "nbformat_minor": 4
}
