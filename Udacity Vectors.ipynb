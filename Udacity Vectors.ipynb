{
 "cells": [
  {
   "cell_type": "markdown",
   "metadata": {},
   "source": [
    "# 1. Matrix & Transformation:\n",
    "## Lets see how to create a matrix and transform them without using numpy and pandas"
   ]
  },
  {
   "cell_type": "code",
   "execution_count": 1,
   "metadata": {},
   "outputs": [],
   "source": [
    "x=[[1,2,3],[4,5,6],[7,8,9],[10,11,12]]"
   ]
  },
  {
   "cell_type": "code",
   "execution_count": 2,
   "metadata": {},
   "outputs": [
    {
     "name": "stdout",
     "output_type": "stream",
     "text": [
      "[[1, 2, 3], [4, 5, 6], [7, 8, 9], [10, 11, 12]]\n"
     ]
    }
   ],
   "source": [
    "print(x)"
   ]
  },
  {
   "cell_type": "code",
   "execution_count": 3,
   "metadata": {},
   "outputs": [],
   "source": [
    "def get_row(matrix,row):\n",
    "    return matrix[row]"
   ]
  },
  {
   "cell_type": "code",
   "execution_count": 4,
   "metadata": {},
   "outputs": [
    {
     "data": {
      "text/plain": [
       "[7, 8, 9]"
      ]
     },
     "execution_count": 4,
     "metadata": {},
     "output_type": "execute_result"
    }
   ],
   "source": [
    "get_row(x,2)"
   ]
  },
  {
   "cell_type": "code",
   "execution_count": 5,
   "metadata": {},
   "outputs": [],
   "source": [
    "#Lets have a column from a matrix in teh form of list\n",
    "def get_column(matrix,col_index):\n",
    "    column=[]\n",
    "    for i in range(len(matrix)):\n",
    "        column.append(matrix[i][col_index])\n",
    "    \n",
    "    return column\n",
    "        \n",
    "        "
   ]
  },
  {
   "cell_type": "code",
   "execution_count": 6,
   "metadata": {},
   "outputs": [
    {
     "data": {
      "text/plain": [
       "[2, 5, 8, 11]"
      ]
     },
     "execution_count": 6,
     "metadata": {},
     "output_type": "execute_result"
    }
   ],
   "source": [
    "get_column(x,1)"
   ]
  },
  {
   "cell_type": "code",
   "execution_count": 7,
   "metadata": {},
   "outputs": [],
   "source": [
    "# dot product of 2 vectors\n",
    "def dot_product(v_1, v_2):\n",
    "    result = 0\n",
    "    for i in range(len(v_1)):\n",
    "        result+=v_1[i]*v_2[i]\n",
    "    \n",
    "    return result"
   ]
  },
  {
   "cell_type": "code",
   "execution_count": 8,
   "metadata": {},
   "outputs": [
    {
     "name": "stdout",
     "output_type": "stream",
     "text": [
      "12\n"
     ]
    }
   ],
   "source": [
    "v_1 = [1,2,3]\n",
    "v_2 = [2,2,2]\n",
    "print(dot_product(v_1,v_2))"
   ]
  },
  {
   "cell_type": "code",
   "execution_count": 9,
   "metadata": {},
   "outputs": [],
   "source": [
    "# Matrix Multiplication\n",
    "def matrix_mul(matrix_a, matrix_b):\n",
    "    result = []\n",
    "    row = len(matrix_a)\n",
    "    col = len(matrix_b[0])\n",
    "    \n",
    "    for r in range(row):\n",
    "        row_result = [] \n",
    "        rowa = get_row(matrix_a,r) # fetch the rowfrom A which we want to multiply\n",
    "        for c in range(col):\n",
    "            colb = get_column(matrix_b,c) # fetch the column from B which we want to multiply\n",
    "            d = dot_product(rowa,colb)\n",
    "            row_result.append(d)\n",
    "        result.append(row_result)\n",
    "    \n",
    "    return result    "
   ]
  },
  {
   "cell_type": "code",
   "execution_count": 10,
   "metadata": {},
   "outputs": [
    {
     "name": "stdout",
     "output_type": "stream",
     "text": [
      "[[1, 2], [3, 4]]\n",
      "[[1], [2]]\n",
      "Matrix a*b: [[5], [11]]\n"
     ]
    }
   ],
   "source": [
    "# Example:01 Matrix Multiplication\n",
    "a = [[1,2],[3,4]] # matrix A of 2x3\n",
    "b = [[1],[2]]     # matrix B of 3x1\n",
    "print(a)\n",
    "print(b)\n",
    "print(\"Matrix a*b:\",matrix_mul(a, b))"
   ]
  },
  {
   "cell_type": "code",
   "execution_count": 11,
   "metadata": {},
   "outputs": [
    {
     "name": "stdout",
     "output_type": "stream",
     "text": [
      "Matrix a*b: [[114, 160, 60, 27], [74, 97, 73, 14], [119, 157, 112, 23]]\n"
     ]
    }
   ],
   "source": [
    "# Example:01 Matrix Multiplication\n",
    "# 3x3 matrix\n",
    "X = [[12,7,3],\n",
    "    [4 ,5,6],\n",
    "    [7 ,8,9]]\n",
    "# 3x4 matrix\n",
    "Y = [[5,8,1,2],\n",
    "    [6,7,3,0],\n",
    "    [4,5,9,1]]\n",
    "print(\"Matrix a*b:\",matrix_mul(X, Y))"
   ]
  },
  {
   "cell_type": "code",
   "execution_count": 12,
   "metadata": {},
   "outputs": [],
   "source": [
    "# Transpose Matrix\n",
    "def matrix_transpose(matrix):\n",
    "    result = []\n",
    "    for c in range(len(matrix[0])): # To loop through column 1st\n",
    "        new_row = []\n",
    "        for r in range(len(matrix)): # Loop through rows so that each row cth column can be fetch\n",
    "            new_row.append(matrix[r][c])\n",
    "        result.append(new_row)\n",
    "    return result"
   ]
  },
  {
   "cell_type": "code",
   "execution_count": 13,
   "metadata": {},
   "outputs": [
    {
     "name": "stdout",
     "output_type": "stream",
     "text": [
      "[[12, 7, 3], [4, 5, 6], [7, 8, 9]]\n",
      "[[12, 4, 7], [7, 5, 8], [3, 6, 9]]\n"
     ]
    }
   ],
   "source": [
    "print(X)\n",
    "print(matrix_transpose(X))"
   ]
  },
  {
   "cell_type": "code",
   "execution_count": 14,
   "metadata": {},
   "outputs": [],
   "source": [
    "# Matrix multiplication using transpose.\n",
    "# As we know the 2 matrix multiplication is\n",
    "#row of matrix_A multiply with column of matrix_B\n",
    "\n",
    "def matrix_mul_Using_transpose(matrix_a, matrix_b):\n",
    "    \n",
    "    trans_b = matrix_transpose(matrix_b)\n",
    "    \n",
    "    result = []\n",
    "       \n",
    "    for r1 in range(len(matrix_a)):\n",
    "        new_row = [] \n",
    "        for r2 in range(len(trans_b)):\n",
    "            d = dot_product(matrix_a[r1], trans_b[r2])\n",
    "            new_row.append(d)\n",
    "        result.append(new_row)\n",
    "    \n",
    "    return result  "
   ]
  },
  {
   "cell_type": "code",
   "execution_count": 15,
   "metadata": {},
   "outputs": [
    {
     "name": "stdout",
     "output_type": "stream",
     "text": [
      "Matrix a*b: [[114, 160, 60, 27], [74, 97, 73, 14], [119, 157, 112, 23]]\n"
     ]
    }
   ],
   "source": [
    "# Example: Matrix Multiplication Using Transpose\n",
    "# 3x3 matrix\n",
    "X = [[12,7,3],\n",
    "    [4 ,5,6],\n",
    "    [7 ,8,9]]\n",
    "# 3x4 matrix\n",
    "Y = [[5,8,1,2],\n",
    "    [6,7,3,0],\n",
    "    [4,5,9,1]]\n",
    "print(\"Matrix a*b:\",matrix_mul_Using_transpose(X, Y))"
   ]
  },
  {
   "cell_type": "code",
   "execution_count": 16,
   "metadata": {},
   "outputs": [],
   "source": [
    "# Find inverse of a 2x2 matrix\n",
    "def matrix_inv(matrix):\n",
    "    inverse = []\n",
    "    \n",
    "    #Check it is a square matrix\n",
    "    if len(matrix) != len(matrix[0]):\n",
    "        raise ValueError('Matris is not square matrix')\n",
    "        \n",
    "    # Check its size should be 2x2\n",
    "    if len(matrix) > 2:\n",
    "        raise NotImplementedError('Matrix size is not appropriate for inverse')\n",
    "        \n",
    "    if len(matrix) == 1:\n",
    "        inverse.append(1./matrix[0][0]) #\n",
    "    elif len(matrix) == 2:\n",
    "        if matrix[0][0]*matrix[1][1] == matrix[1][0]*matrix[0][1]:\n",
    "            raise ValueError('Matrix is not inversible')\n",
    "        else:\n",
    "            a = matrix[0][0]\n",
    "            b = matrix[0][1]\n",
    "            c = matrix[1][0]\n",
    "            d = matrix[1][1]\n",
    "            \n",
    "            f=1/(a*d-b*c)\n",
    "            inverse = [[d, -b],[-c, a]]\n",
    "            \n",
    "            for i in range(len(inverse)):\n",
    "                for j in range(len(inverse)):\n",
    "                    inverse[i][j] = f* inverse[i][j]\n",
    "                    \n",
    "    return inverse"
   ]
  },
  {
   "cell_type": "code",
   "execution_count": 17,
   "metadata": {},
   "outputs": [
    {
     "name": "stdout",
     "output_type": "stream",
     "text": [
      "[[-2.0, 1.0], [1.5, -0.5]]\n"
     ]
    }
   ],
   "source": [
    "x=[[1,2],[3,4]]\n",
    "print(matrix_inv(x))"
   ]
  },
  {
   "cell_type": "code",
   "execution_count": 18,
   "metadata": {},
   "outputs": [
    {
     "name": "stdout",
     "output_type": "stream",
     "text": [
      "[0.5]\n"
     ]
    }
   ],
   "source": [
    "y=[[2]]\n",
    "print(matrix_inv(y))"
   ]
  },
  {
   "cell_type": "markdown",
   "metadata": {},
   "source": [
    "# 2. Vector - Linera Algebrl\n",
    "## Let's see some examples of vector linear algebra"
   ]
  },
  {
   "cell_type": "code",
   "execution_count": 146,
   "metadata": {},
   "outputs": [],
   "source": [
    "import math as mt\n",
    "\n",
    "\n",
    "# Define vector and see if two vectors are equal or not\n",
    "\n",
    "\n",
    "class Vector(object):\n",
    "    def __init__(self,coordinates):\n",
    "        try:\n",
    "            if not coordinates:\n",
    "                raise ValueError\n",
    "            else:\n",
    "                self.coordinates = coordinates\n",
    "                self.dimensions = len(coordinates)\n",
    "        except ValueError:\n",
    "            raise ValueError('The coordinates must be non-empyt')\n",
    "        except TypeError:\n",
    "            raise TypeError('coordinates must be itterable')\n",
    "        \n",
    "    def plus(self,v):\n",
    "        new_coordinates = [x+y for x,y in zip(self.coordinates, v.coordinates)]\n",
    "        return new_coordinates\n",
    "    \n",
    "    def minus(self,v):\n",
    "        new_coordinates = [x-y for x,y in zip(self.coordinates, v.coordinates)]\n",
    "        return new_coordinates\n",
    "        \n",
    "    def times_scalar(self,c):\n",
    "        new_coordinates = [c*x for x in self.coordinates]\n",
    "        return new_coordinates        \n",
    "    \n",
    "    def __str__(self):\n",
    "        return (\"Vector: {}\".format(self.coordinates))\n",
    "        \n",
    "    def __eq__(self,v):\n",
    "        return self.coordinates == v.coordinates\n",
    "    \n",
    "    # Lets write code for defining normalization of vectors\n",
    "    def magnitude(self):\n",
    "        c = [x**2 for x in self.coordinates]\n",
    "        return mt.sqrt(sum(c))\n",
    "    \n",
    "    def normalized(self):\n",
    "        try:\n",
    "            m = self.magnitude()\n",
    "            return self.times_scalar(1/m)\n",
    "        except ZeroDivisionError:\n",
    "            raise ZeroDivisionError('Zero vector has no normalization')\n",
    "  "
   ]
  },
  {
   "cell_type": "code",
   "execution_count": 147,
   "metadata": {},
   "outputs": [
    {
     "name": "stdout",
     "output_type": "stream",
     "text": [
      "Vector: [1, 2, 3]\n",
      "True\n",
      "False\n",
      "*****************Basic Operations on Vectors *****************\n",
      "[2, 4, 6]\n",
      "[0, 0, 0]\n",
      "[4, 8, 12]\n",
      "*****************Vector Normalisation *****************\n",
      "3.7416573867739413\n",
      "[0.2672612419124244, 0.5345224838248488, 0.8017837257372732]\n"
     ]
    }
   ],
   "source": [
    "#Examples \n",
    "#Define a vector\n",
    "v = Vector([1,2,3])\n",
    "#Print a vector\n",
    "print(v)\n",
    "#Check euqlaity in 2 vector\n",
    "v1 = Vector([1,2,3])\n",
    "v2 = Vector([1,2,3])\n",
    "print(v1 == v2)\n",
    "\n",
    "v1 = Vector([1,2,3])\n",
    "v2 = Vector([1,-2,3])\n",
    "print(v1 == v2)\n",
    "\n",
    "print(\"*****************Basic Operations on Vectors *****************\")\n",
    "v=Vector([1,2,3])\n",
    "w=Vector([1,2,3])\n",
    "print(v.plus(w))\n",
    "print(v.minus(w))\n",
    "print(v.times_scalar(4))\n",
    "\n",
    "print(\"*****************Vector Normalisation *****************\")\n",
    "v=Vector([1,2,3])\n",
    "print(v.magnitude())\n",
    "print(v.normalized())\n",
    "\n"
   ]
  },
  {
   "cell_type": "markdown",
   "metadata": {},
   "source": [
    "## Let's see how to find the angle between 2 vectors. And will see whether the two vectors are parallel or orthogonal."
   ]
  },
  {
   "cell_type": "code",
   "execution_count": 172,
   "metadata": {},
   "outputs": [],
   "source": [
    "from math import sqrt, acos, pi\n",
    "from decimal import Decimal, getcontext\n",
    "\n",
    "getcontext().prec = 30\n",
    "\n",
    "# Define vector and see if two vectors are equal or not\n",
    "\n",
    "\n",
    "class Vector(object):\n",
    "    \n",
    "    def __init__(self,coordinates):\n",
    "        try:\n",
    "            if not coordinates:\n",
    "                raise ValueError\n",
    "            else:\n",
    "                self.coordinates = tuple([Decimal(x) for x in coordinates])\n",
    "                self.dimensions = len(self.coordinates)\n",
    "        except ValueError:\n",
    "            raise ValueError('The coordinates must be non-empyt')\n",
    "        except TypeError:\n",
    "            raise TypeError('coordinates must be itterable')\n",
    "        \n",
    "    def plus(self,v):\n",
    "        new_coordinates = [x+y for x,y in zip(self.coordinates, v.coordinates)]\n",
    "        return Vector(new_coordinates)\n",
    "    \n",
    "    def minus(self,v):\n",
    "        new_coordinates = [x-y for x,y in zip(self.coordinates, v.coordinates)]\n",
    "        return Vector(new_coordinates)\n",
    "        \n",
    "    def times_scalar(self,c):\n",
    "        new_coordinates = [Decimal(c)*x for x in self.coordinates]\n",
    "        return Vector(new_coordinates)        \n",
    "    \n",
    "    def __str__(self):\n",
    "        return (\"Vector: {}\".format(self.coordinates))\n",
    "        \n",
    "    def __eq__(self,v):\n",
    "        return self.coordinates == v.coordinates\n",
    "    \n",
    "    # Lets write code for defining normalization of vectors\n",
    "    def magnitude(self):\n",
    "        c = [x**2 for x in self.coordinates]\n",
    "        return Decimal(sqrt(sum(c)))\n",
    "    \n",
    "            \n",
    "    def normalized(self):\n",
    "        try:\n",
    "            m = self.magnitude()\n",
    "            return self.times_scalar(Decimal('1.0')/m)\n",
    "        except ZeroDivisionError:\n",
    "            raise ZeroDivisionError('Zero vector has no normalization')\n",
    "  \n",
    "    \n",
    "    def dot_product(self, v):\n",
    "        return sum(x*y for x,y in zip(self.coordinates, v.coordinates))\n",
    "    \n",
    "    def angle_cal(self, v, in_degress = False):\n",
    "        try:    \n",
    "            u1 = self.normalized()\n",
    "            u2 = v.normalized()\n",
    "            a = round(u1.dot_product(u2),3)\n",
    "            angle_in_rad = acos(a)\n",
    "            if in_degress:\n",
    "                angle_in_degress = angle_in_rad * (180./pi)\n",
    "                return angle_in_degress\n",
    "            else:\n",
    "                return angle_in_rad\n",
    "            \n",
    "        except Exception:\n",
    "            raise Exception('Cannot compute an angle of zero vector')\n",
    "    \n",
    "    def is_zero(self, eps = 1e-10):\n",
    "        x= self.magnitude()\n",
    "        return x < eps\n",
    "    \n",
    "    def is_orthogonal(self, v, eps = 1e-10):\n",
    "        return abs(self.dot_product(v)) < eps\n",
    "    \n",
    "    def is_parallel(self, v, eps = 1e-10):\n",
    "        return self.is_zero() or v.is_zero() or self.angle_cal(v) in [0, pi]\n",
    "    \n",
    "    \n",
    "        \n",
    "        "
   ]
  },
  {
   "cell_type": "code",
   "execution_count": 173,
   "metadata": {},
   "outputs": [
    {
     "name": "stdout",
     "output_type": "stream",
     "text": [
      "-49.0602569999999984690148835398\n",
      "3.07833655471465\n"
     ]
    }
   ],
   "source": [
    "#Example for vectors angles caluclation\n",
    "v=Vector([3.183, -7.627])\n",
    "w=Vector([-2.668, 5.319])\n",
    "print(v.dot_product(w))\n",
    "print(v.angle_cal(w))"
   ]
  },
  {
   "cell_type": "code",
   "execution_count": 175,
   "metadata": {},
   "outputs": [
    {
     "name": "stdout",
     "output_type": "stream",
     "text": [
      "1 parallel: True, orthogonal: False\n",
      "2 parallel: False, orthogonal: False\n",
      "3 parallel: False, orthogonal: True\n",
      "4 parallel: True, orthogonal: True\n"
     ]
    }
   ],
   "source": [
    "# Example for Parallel and Orthogonal Vectors\n",
    "\n",
    "v = Vector(['-7.579', '-7.88'])\n",
    "w = Vector(['22.737', '23.64'])\n",
    "is_parallel = v.is_parallel(w)\n",
    "is_orthogonal = v.is_orthogonal(w)\n",
    "\n",
    "print('1 parallel: {}, orthogonal: {}'.format(is_parallel, is_orthogonal))\n",
    "\n",
    "v = Vector([-2.029, 9.97, 4.172])\n",
    "w = Vector([-9.231, -6.639, -7.245])\n",
    "is_parallel = v.is_parallel(w)\n",
    "is_orthogonal = v.is_orthogonal(w)\n",
    "\n",
    "print('2 parallel: {}, orthogonal: {}'.format(is_parallel, is_orthogonal))\n",
    "\n",
    "v = Vector([-2.328, -7.284, -1.214])\n",
    "w = Vector([-1.821, 1.072, -2.94])\n",
    "is_parallel = v.is_parallel(w)\n",
    "is_orthogonal = v.is_orthogonal(w)\n",
    "print('3 parallel: {}, orthogonal: {}'.format(is_parallel, is_orthogonal))\n",
    "\n",
    "v = Vector([2.118, 4.827])\n",
    "w = Vector([0, 0])\n",
    "is_parallel = v.is_parallel(w)\n",
    "is_orthogonal = v.is_orthogonal(w)\n",
    "\n",
    "print('4 parallel: {}, orthogonal: {}'.format(is_parallel, is_orthogonal))\n"
   ]
  },
  {
   "cell_type": "markdown",
   "metadata": {},
   "source": [
    "## Let's find the projection of vector on other vector b. And will also see Cross Product of 2 vectors\n"
   ]
  },
  {
   "cell_type": "code",
   "execution_count": 236,
   "metadata": {},
   "outputs": [],
   "source": [
    "from math import sqrt, acos, pi\n",
    "from decimal import Decimal, getcontext\n",
    "\n",
    "getcontext().prec = 6\n",
    "\n",
    "# Define vector and see if two vectors are equal or not\n",
    "\n",
    "\n",
    "class Vector(object):\n",
    "    \n",
    "    def __init__(self,coordinates):\n",
    "        try:\n",
    "            if not coordinates:\n",
    "                raise ValueError\n",
    "            else:\n",
    "                self.coordinates = tuple([Decimal(x) for x in coordinates])\n",
    "                self.dimensions = len(self.coordinates)\n",
    "        except ValueError:\n",
    "            raise ValueError('The coordinates must be non-empyt')\n",
    "        except TypeError:\n",
    "            raise TypeError('coordinates must be itterable')\n",
    "        \n",
    "    def plus(self,v):\n",
    "        new_coordinates = [x+y for x,y in zip(self.coordinates, v.coordinates)]\n",
    "        return Vector(new_coordinates)\n",
    "    \n",
    "    def minus(self,v):\n",
    "        new_coordinates = [x-y for x,y in zip(self.coordinates, v.coordinates)]\n",
    "        return Vector(new_coordinates)\n",
    "        \n",
    "    def times_scalar(self,c):\n",
    "        new_coordinates = [Decimal(c)*x for x in self.coordinates]\n",
    "        return Vector(new_coordinates)        \n",
    "    \n",
    "    def __str__(self):\n",
    "        return (\"Vector: {}\".format(self.coordinates))\n",
    "        \n",
    "    def __eq__(self,v):\n",
    "        return self.coordinates == v.coordinates\n",
    "    \n",
    "    # Lets write code for defining normalization of vectors\n",
    "    def magnitude(self):\n",
    "        c = [x**2 for x in self.coordinates]\n",
    "        return Decimal(sqrt(sum(c)))\n",
    "    \n",
    "            \n",
    "    def normalized(self):\n",
    "        try:\n",
    "            m = self.magnitude()\n",
    "            return self.times_scalar(Decimal('1.0')/m)\n",
    "        except ZeroDivisionError:\n",
    "            raise ZeroDivisionError('Zero vector has no normalization')\n",
    "  \n",
    "    \n",
    "    def dot_product(self, v):\n",
    "        return sum(x*y for x,y in zip(self.coordinates, v.coordinates))\n",
    "    \n",
    "    def angle_cal(self, v, in_degress = False):\n",
    "        try:    \n",
    "            u1 = self.normalized()\n",
    "            u2 = v.normalized()\n",
    "            a = round(u1.dot_product(u2),3)\n",
    "            angle_in_rad = acos(a)\n",
    "            if in_degress:\n",
    "                angle_in_degress = angle_in_rad * (180./pi)\n",
    "                return angle_in_degress\n",
    "            else:\n",
    "                return angle_in_rad\n",
    "            \n",
    "        except Exception:\n",
    "            raise Exception('Cannot compute an angle of zero vector')\n",
    "    \n",
    "    def is_zero(self, eps = 1e-10):\n",
    "        x= self.magnitude()\n",
    "        return x < eps\n",
    "    \n",
    "    def is_orthogonal(self, v, eps = 1e-10):\n",
    "        return abs(self.dot_product(v)) < eps\n",
    "    \n",
    "    def is_parallel(self, v, eps = 1e-10):\n",
    "        return self.is_zero() or v.is_zero() or self.angle_cal(v) in [0, pi]\n",
    "    \n",
    "    def component_parallel_to(self,v):\n",
    "        b=v.normalized()\n",
    "        weight = self.dot_product(b)\n",
    "        return b.times_scalar(weight)\n",
    "    \n",
    "    def component_orthogonal_to(self,v):\n",
    "        x= self.component_parallel_to(v)\n",
    "        return self.minus(x)\n",
    "    \n",
    "    def cross_prod(self,v):\n",
    "        [x1, y1, z1] = self.coordinates\n",
    "        [x2, y2, z2] = v.coordinates\n",
    "        x = y1*z2 - y2*z1\n",
    "        y = -1 * (x1*z2 - x2*z1)\n",
    "        z = x1*y2 - x2*y1\n",
    "        return Vector([x, y , z])\n",
    "    \n",
    "    def area_parallelogram(self, other):\n",
    "        return self.cross_prod(other).magnitude()\n",
    "\n",
    "    def area_triangle(self, other):\n",
    "        return self.cross_prod(other).magnitude()/Decimal('2.0')\n"
   ]
  },
  {
   "cell_type": "code",
   "execution_count": 239,
   "metadata": {},
   "outputs": [
    {
     "name": "stdout",
     "output_type": "stream",
     "text": [
      "cross product is: Vector: (Decimal('-11.2045'), Decimal('-97.6094'), Decimal('-105.685'))\n",
      "142.122130577894182579257176257669925689697265625\n",
      "42.5649\n"
     ]
    }
   ],
   "source": [
    "    # Examples\n",
    "    v1 = Vector([8.462, 7.893, -8.187])\n",
    "    w1 = Vector([6.984, -5.975, 4.778])\n",
    "\n",
    "    v2 = Vector([-8.987, -9.838, 5.031])\n",
    "    w2 = Vector([-4.268, -1.861, -8.866])\n",
    "\n",
    "    v3 = Vector([1.5, 9.547, 3.691])\n",
    "    w3 = Vector([-6.007, 0.124, 5.772])\n",
    "\n",
    "    first_cross_product = v1.cross_prod(w1)\n",
    "    print('cross product is: {}'.format(first_cross_product))\n",
    "\n",
    "    #rea_parallelogram = v2.area_parallelogram(w2)\n",
    "    #print('area parallelogram is: {}'.format(round(area_parallelogram, 3)))\n",
    "    print(v2.area_parallelogram(w2))\n",
    "    print(v3.area_triangle(w3))\n",
    "    #area_triangle = v3.area_triangle(w3)\n",
    "    #print('area triangle is: {}'.format(round(area_triangle, 3)))"
   ]
  },
  {
   "cell_type": "code",
   "execution_count": null,
   "metadata": {},
   "outputs": [],
   "source": []
  }
 ],
 "metadata": {
  "kernelspec": {
   "display_name": "Python 3",
   "language": "python",
   "name": "python3"
  },
  "language_info": {
   "codemirror_mode": {
    "name": "ipython",
    "version": 3
   },
   "file_extension": ".py",
   "mimetype": "text/x-python",
   "name": "python",
   "nbconvert_exporter": "python",
   "pygments_lexer": "ipython3",
   "version": "3.6.5"
  }
 },
 "nbformat": 4,
 "nbformat_minor": 2
}
